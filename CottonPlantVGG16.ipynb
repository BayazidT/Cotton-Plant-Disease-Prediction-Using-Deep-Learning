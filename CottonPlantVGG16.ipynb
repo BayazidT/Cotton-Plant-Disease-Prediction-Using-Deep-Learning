{
  "nbformat": 4,
  "nbformat_minor": 0,
  "metadata": {
    "colab": {
      "name": "CottonPlantVGG16.ipynb",
      "provenance": []
    },
    "kernelspec": {
      "name": "python3",
      "display_name": "Python 3"
    }
  },
  "cells": [
    {
      "cell_type": "code",
      "metadata": {
        "id": "PDz7TeqA7ll6"
      },
      "source": [
        "train_path = \"drive/MyDrive/CottonPlantDiseases/Cotton Disease/train\"\n",
        "valid_path = \"drive/MyDrive/CottonPlantDiseases/Cotton Disease/test\""
      ],
      "execution_count": null,
      "outputs": []
    },
    {
      "cell_type": "code",
      "metadata": {
        "id": "h3X8ASo38gKc"
      },
      "source": [
        "from keras.layers import Input, Lambda, Dense, Flatten\n",
        "from keras.models import Model\n",
        "from keras.applications.vgg16 import VGG16\n",
        "from keras.applications.vgg16 import preprocess_input\n",
        "from keras.preprocessing import image\n",
        "from keras.preprocessing.image import ImageDataGenerator\n",
        "from keras.models import Sequential\n",
        "import numpy as np\n",
        "from glob import glob\n",
        "import matplotlib.pyplot as plt"
      ],
      "execution_count": null,
      "outputs": []
    },
    {
      "cell_type": "code",
      "metadata": {
        "id": "cruXVTaHYYXc"
      },
      "source": [
        "IMAGE_SIZE = [224, 224]"
      ],
      "execution_count": null,
      "outputs": []
    },
    {
      "cell_type": "code",
      "metadata": {
        "id": "7wuOHdo79CZy"
      },
      "source": [
        "vgg = VGG16(input_shape=IMAGE_SIZE + [3], weights='imagenet', include_top=False)"
      ],
      "execution_count": null,
      "outputs": []
    },
    {
      "cell_type": "code",
      "metadata": {
        "id": "-jHcmTom9JHi"
      },
      "source": [
        "for layer in vgg.layers:\n",
        "  layer.trainable = False"
      ],
      "execution_count": null,
      "outputs": []
    },
    {
      "cell_type": "code",
      "metadata": {
        "id": "C0yKLeMEZVcv"
      },
      "source": [
        "folders = glob('drive/MyDrive/CottonPlantDiseases/Cotton Disease/train/*')"
      ],
      "execution_count": null,
      "outputs": []
    },
    {
      "cell_type": "code",
      "metadata": {
        "id": "qnIHRJ0DZotQ"
      },
      "source": [
        "x = Flatten()(vgg.output)\n",
        "\n",
        "prediction = Dense(len(folders), activation='softmax')(x)\n",
        "model = Model(inputs=vgg.input, outputs=prediction)"
      ],
      "execution_count": null,
      "outputs": []
    },
    {
      "cell_type": "code",
      "metadata": {
        "colab": {
          "base_uri": "https://localhost:8080/"
        },
        "id": "fpbH-Np1Zp4E",
        "outputId": "0fb56be2-a2dc-4ee5-8b66-9d01ab3bcd24"
      },
      "source": [
        "model.summary()"
      ],
      "execution_count": null,
      "outputs": [
        {
          "output_type": "stream",
          "text": [
            "Model: \"model\"\n",
            "_________________________________________________________________\n",
            "Layer (type)                 Output Shape              Param #   \n",
            "=================================================================\n",
            "input_2 (InputLayer)         [(None, 224, 224, 3)]     0         \n",
            "_________________________________________________________________\n",
            "block1_conv1 (Conv2D)        (None, 224, 224, 64)      1792      \n",
            "_________________________________________________________________\n",
            "block1_conv2 (Conv2D)        (None, 224, 224, 64)      36928     \n",
            "_________________________________________________________________\n",
            "block1_pool (MaxPooling2D)   (None, 112, 112, 64)      0         \n",
            "_________________________________________________________________\n",
            "block2_conv1 (Conv2D)        (None, 112, 112, 128)     73856     \n",
            "_________________________________________________________________\n",
            "block2_conv2 (Conv2D)        (None, 112, 112, 128)     147584    \n",
            "_________________________________________________________________\n",
            "block2_pool (MaxPooling2D)   (None, 56, 56, 128)       0         \n",
            "_________________________________________________________________\n",
            "block3_conv1 (Conv2D)        (None, 56, 56, 256)       295168    \n",
            "_________________________________________________________________\n",
            "block3_conv2 (Conv2D)        (None, 56, 56, 256)       590080    \n",
            "_________________________________________________________________\n",
            "block3_conv3 (Conv2D)        (None, 56, 56, 256)       590080    \n",
            "_________________________________________________________________\n",
            "block3_pool (MaxPooling2D)   (None, 28, 28, 256)       0         \n",
            "_________________________________________________________________\n",
            "block4_conv1 (Conv2D)        (None, 28, 28, 512)       1180160   \n",
            "_________________________________________________________________\n",
            "block4_conv2 (Conv2D)        (None, 28, 28, 512)       2359808   \n",
            "_________________________________________________________________\n",
            "block4_conv3 (Conv2D)        (None, 28, 28, 512)       2359808   \n",
            "_________________________________________________________________\n",
            "block4_pool (MaxPooling2D)   (None, 14, 14, 512)       0         \n",
            "_________________________________________________________________\n",
            "block5_conv1 (Conv2D)        (None, 14, 14, 512)       2359808   \n",
            "_________________________________________________________________\n",
            "block5_conv2 (Conv2D)        (None, 14, 14, 512)       2359808   \n",
            "_________________________________________________________________\n",
            "block5_conv3 (Conv2D)        (None, 14, 14, 512)       2359808   \n",
            "_________________________________________________________________\n",
            "block5_pool (MaxPooling2D)   (None, 7, 7, 512)         0         \n",
            "_________________________________________________________________\n",
            "flatten_2 (Flatten)          (None, 25088)             0         \n",
            "_________________________________________________________________\n",
            "dense_4 (Dense)              (None, 4)                 100356    \n",
            "=================================================================\n",
            "Total params: 14,815,044\n",
            "Trainable params: 100,356\n",
            "Non-trainable params: 14,714,688\n",
            "_________________________________________________________________\n"
          ],
          "name": "stdout"
        }
      ]
    },
    {
      "cell_type": "code",
      "metadata": {
        "id": "Y0QDstiDaEVA"
      },
      "source": [
        "model.compile(\n",
        "  loss='categorical_crossentropy',\n",
        "  optimizer='adam',\n",
        "  metrics=['accuracy']\n",
        ")"
      ],
      "execution_count": null,
      "outputs": []
    },
    {
      "cell_type": "code",
      "metadata": {
        "id": "DIg9fnAWaEbs"
      },
      "source": [
        "from keras.preprocessing.image import ImageDataGenerator"
      ],
      "execution_count": null,
      "outputs": []
    },
    {
      "cell_type": "code",
      "metadata": {
        "id": "5k6ESJ51aEg5"
      },
      "source": [
        "train_datagen = ImageDataGenerator(rescale = 1./255,\n",
        "                                   shear_range = 0.2,\n",
        "                                   zoom_range = 0.2,\n",
        "                                   horizontal_flip = True)\n",
        "\n",
        "test_datagen = ImageDataGenerator(rescale = 1./255)"
      ],
      "execution_count": null,
      "outputs": []
    },
    {
      "cell_type": "code",
      "metadata": {
        "colab": {
          "base_uri": "https://localhost:8080/"
        },
        "id": "tElHdq-caEnR",
        "outputId": "3d97caee-1076-4a80-f0fa-cf36b4ef85ad"
      },
      "source": [
        "training_set = train_datagen.flow_from_directory(train_path,\n",
        "                                                 target_size = (224, 224),\n",
        "                                                 batch_size = 32,\n",
        "                                                 class_mode = 'categorical')"
      ],
      "execution_count": null,
      "outputs": [
        {
          "output_type": "stream",
          "text": [
            "Found 1951 images belonging to 4 classes.\n"
          ],
          "name": "stdout"
        }
      ]
    },
    {
      "cell_type": "code",
      "metadata": {
        "colab": {
          "base_uri": "https://localhost:8080/"
        },
        "id": "ddqBpdEWarrS",
        "outputId": "d2c8bf22-807f-4edb-d006-11d57cad5adc"
      },
      "source": [
        "test_set = test_datagen.flow_from_directory(valid_path,\n",
        "                                            target_size = (224, 224),\n",
        "                                            batch_size = 32,\n",
        "                                            class_mode = 'categorical')"
      ],
      "execution_count": null,
      "outputs": [
        {
          "output_type": "stream",
          "text": [
            "Found 106 images belonging to 4 classes.\n"
          ],
          "name": "stdout"
        }
      ]
    },
    {
      "cell_type": "code",
      "metadata": {
        "colab": {
          "base_uri": "https://localhost:8080/"
        },
        "id": "8ZusmhSOar8b",
        "outputId": "e15dcc00-7729-46de-975c-6304ac75b65e"
      },
      "source": [
        "r = model.fit_generator(\n",
        "  training_set,\n",
        "  validation_data=test_set,\n",
        "  epochs=5,\n",
        "  steps_per_epoch=len(training_set),\n",
        "  validation_steps=len(test_set)\n",
        ")"
      ],
      "execution_count": null,
      "outputs": [
        {
          "output_type": "stream",
          "text": [
            "/usr/local/lib/python3.6/dist-packages/tensorflow/python/keras/engine/training.py:1844: UserWarning: `Model.fit_generator` is deprecated and will be removed in a future version. Please use `Model.fit`, which supports generators.\n",
            "  warnings.warn('`Model.fit_generator` is deprecated and '\n"
          ],
          "name": "stderr"
        },
        {
          "output_type": "stream",
          "text": [
            "Epoch 1/5\n",
            "61/61 [==============================] - 931s 15s/step - loss: 1.0566 - accuracy: 0.5750 - val_loss: 0.2270 - val_accuracy: 0.9340\n",
            "Epoch 2/5\n",
            "61/61 [==============================] - 931s 15s/step - loss: 0.2320 - accuracy: 0.9148 - val_loss: 0.1958 - val_accuracy: 0.9151\n",
            "Epoch 3/5\n",
            "61/61 [==============================] - 925s 15s/step - loss: 0.1776 - accuracy: 0.9338 - val_loss: 0.2005 - val_accuracy: 0.8962\n",
            "Epoch 4/5\n",
            "61/61 [==============================] - 930s 15s/step - loss: 0.1724 - accuracy: 0.9457 - val_loss: 0.1347 - val_accuracy: 0.9434\n",
            "Epoch 5/5\n",
            "61/61 [==============================] - 927s 15s/step - loss: 0.1141 - accuracy: 0.9625 - val_loss: 0.1182 - val_accuracy: 0.9623\n"
          ],
          "name": "stdout"
        }
      ]
    },
    {
      "cell_type": "code",
      "metadata": {
        "colab": {
          "base_uri": "https://localhost:8080/"
        },
        "id": "iPUF77zYrN3e",
        "outputId": "e3523d09-602b-4af5-f618-22a79b2da72b"
      },
      "source": [
        "print(\"training_accuracy\", r.history['accuracy'][-1])\n",
        "print(\"validation_accuracy\", r.history['val_accuracy'][-1])\n",
        "print(\"loss\", r.history['loss'][-1])"
      ],
      "execution_count": null,
      "outputs": [
        {
          "output_type": "stream",
          "text": [
            "training_accuracy 0.9610456228256226\n",
            "validation_accuracy 0.9622641801834106\n",
            "loss 0.11908075958490372\n"
          ],
          "name": "stdout"
        }
      ]
    },
    {
      "cell_type": "code",
      "metadata": {
        "id": "DYxvN53OrOf3"
      },
      "source": [
        ""
      ],
      "execution_count": null,
      "outputs": []
    },
    {
      "cell_type": "code",
      "metadata": {
        "colab": {
          "base_uri": "https://localhost:8080/",
          "height": 282
        },
        "id": "A_YhZAEyasB5",
        "outputId": "400de76d-568d-48e1-d777-6e923a302c32"
      },
      "source": [
        "# loss\n",
        "plt.plot(r.history['loss'], label='train loss')\n",
        "plt.plot(r.history['val_loss'], label='val loss')\n",
        "plt.legend()\n",
        "plt.show()\n",
        "plt.savefig('LossVal_loss')\n"
      ],
      "execution_count": null,
      "outputs": [
        {
          "output_type": "display_data",
          "data": {
            "image/png": "[encoded data removed]",
            "text/plain": [
              "<Figure size 432x288 with 1 Axes>"
            ]
          },
          "metadata": {
            "tags": [],
            "needs_background": "light"
          }
        },
        {
          "output_type": "display_data",
          "data": {
            "text/plain": [
              "<Figure size 432x288 with 0 Axes>"
            ]
          },
          "metadata": {
            "tags": []
          }
        }
      ]
    },
    {
      "cell_type": "code",
      "metadata": {
        "colab": {
          "base_uri": "https://localhost:8080/",
          "height": 282
        },
        "id": "ZPqBXBHXasHj",
        "outputId": "fd2eaf7c-15c8-4cf6-b1a3-b219557089ca"
      },
      "source": [
        "# accuracies\n",
        "plt.plot(r.history['accuracy'], label='train acc')\n",
        "plt.plot(r.history['val_accuracy'], label='val acc')\n",
        "plt.legend()\n",
        "plt.show()\n",
        "plt.savefig('AccVal_acc')"
      ],
      "execution_count": null,
      "outputs": [
        {
          "output_type": "display_data",
          "data": {
            "image/png": "[encoded data removed]",
            "text/plain": [
              "<Figure size 432x288 with 1 Axes>"
            ]
          },
          "metadata": {
            "tags": [],
            "needs_background": "light"
          }
        },
        {
          "output_type": "display_data",
          "data": {
            "text/plain": [
              "<Figure size 432x288 with 0 Axes>"
            ]
          },
          "metadata": {
            "tags": []
          }
        }
      ]
    },
    {
      "cell_type": "code",
      "metadata": {
        "id": "XQFfXcd4asMg"
      },
      "source": [
        "import tensorflow as tf\n",
        "\n",
        "from keras.models import load_model\n",
        "\n",
        "model.save('facefeatures_new_model.h5')"
      ],
      "execution_count": null,
      "outputs": []
    },
    {
      "cell_type": "code",
      "metadata": {
        "id": "G77ZUoNzasSk"
      },
      "source": [
        "label = test_set.classes"
      ],
      "execution_count": null,
      "outputs": []
    },
    {
      "cell_type": "code",
      "metadata": {
        "colab": {
          "base_uri": "https://localhost:8080/"
        },
        "id": "K_2ZQO670A-q",
        "outputId": "33a1d6ab-4319-48dc-fc64-ce6f71753be4"
      },
      "source": [
        "pred= model.predict(test_set)\n",
        "predicted_class_indices=np.argmax(pred,axis=1)\n",
        "labels = (test_set.class_indices)\n",
        "labels2 = dict((v,k) for k,v in labels.items())\n",
        "predictions = [labels2[k] for k in predicted_class_indices]\n",
        "print(predicted_class_indices)\n",
        "print (labels)\n",
        "print (predictions)"
      ],
      "execution_count": null,
      "outputs": [
        {
          "output_type": "stream",
          "text": [
            "[3 3 1 0 2 2 1 1 0 0 2 2 3 0 1 0 1 0 1 1 2 2 2 0 3 1 3 1 2 1 0 2 1 2 0 3 2\n",
            " 1 3 3 3 0 0 3 2 3 3 1 3 3 2 1 3 0 1 2 0 0 1 2 2 0 3 0 1 1 3 2 2 2 3 2 2 0\n",
            " 3 2 3 1 3 3 2 1 0 1 0 1 2 3 2 2 0 1 1 1 3 1 0 3 3 1 2 2 0 3 0 0]\n",
            "{'diseased cotton leaf': 0, 'diseased cotton plant': 1, 'fresh cotton leaf': 2, 'fresh cotton plant': 3}\n",
            "['fresh cotton plant', 'fresh cotton plant', 'diseased cotton plant', 'diseased cotton leaf', 'fresh cotton leaf', 'fresh cotton leaf', 'diseased cotton plant', 'diseased cotton plant', 'diseased cotton leaf', 'diseased cotton leaf', 'fresh cotton leaf', 'fresh cotton leaf', 'fresh cotton plant', 'diseased cotton leaf', 'diseased cotton plant', 'diseased cotton leaf', 'diseased cotton plant', 'diseased cotton leaf', 'diseased cotton plant', 'diseased cotton plant', 'fresh cotton leaf', 'fresh cotton leaf', 'fresh cotton leaf', 'diseased cotton leaf', 'fresh cotton plant', 'diseased cotton plant', 'fresh cotton plant', 'diseased cotton plant', 'fresh cotton leaf', 'diseased cotton plant', 'diseased cotton leaf', 'fresh cotton leaf', 'diseased cotton plant', 'fresh cotton leaf', 'diseased cotton leaf', 'fresh cotton plant', 'fresh cotton leaf', 'diseased cotton plant', 'fresh cotton plant', 'fresh cotton plant', 'fresh cotton plant', 'diseased cotton leaf', 'diseased cotton leaf', 'fresh cotton plant', 'fresh cotton leaf', 'fresh cotton plant', 'fresh cotton plant', 'diseased cotton plant', 'fresh cotton plant', 'fresh cotton plant', 'fresh cotton leaf', 'diseased cotton plant', 'fresh cotton plant', 'diseased cotton leaf', 'diseased cotton plant', 'fresh cotton leaf', 'diseased cotton leaf', 'diseased cotton leaf', 'diseased cotton plant', 'fresh cotton leaf', 'fresh cotton leaf', 'diseased cotton leaf', 'fresh cotton plant', 'diseased cotton leaf', 'diseased cotton plant', 'diseased cotton plant', 'fresh cotton plant', 'fresh cotton leaf', 'fresh cotton leaf', 'fresh cotton leaf', 'fresh cotton plant', 'fresh cotton leaf', 'fresh cotton leaf', 'diseased cotton leaf', 'fresh cotton plant', 'fresh cotton leaf', 'fresh cotton plant', 'diseased cotton plant', 'fresh cotton plant', 'fresh cotton plant', 'fresh cotton leaf', 'diseased cotton plant', 'diseased cotton leaf', 'diseased cotton plant', 'diseased cotton leaf', 'diseased cotton plant', 'fresh cotton leaf', 'fresh cotton plant', 'fresh cotton leaf', 'fresh cotton leaf', 'diseased cotton leaf', 'diseased cotton plant', 'diseased cotton plant', 'diseased cotton plant', 'fresh cotton plant', 'diseased cotton plant', 'diseased cotton leaf', 'fresh cotton plant', 'fresh cotton plant', 'diseased cotton plant', 'fresh cotton leaf', 'fresh cotton leaf', 'diseased cotton leaf', 'fresh cotton plant', 'diseased cotton leaf', 'diseased cotton leaf']\n"
          ],
          "name": "stdout"
        }
      ]
    },
    {
      "cell_type": "code",
      "metadata": {
        "id": "Vk387GvC0J4-"
      },
      "source": [
        "model.save('CottonPlantVGG16.hdf5')"
      ],
      "execution_count": null,
      "outputs": []
    }
  ]
}